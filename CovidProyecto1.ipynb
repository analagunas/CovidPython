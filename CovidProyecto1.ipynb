{
 "cells": [
  {
   "cell_type": "markdown",
   "metadata": {
    "colab_type": "text",
    "id": "Tc_qSxQI4ByK"
   },
   "source": [
    "# Analisis de datos covid-19 en China\n",
    "\n",
    "Para este ejercicio se hara un modelo de regresión que pueda predecir el número de mujeres infectadas con base en la edad"
   ]
  },
  {
   "cell_type": "markdown",
   "metadata": {},
   "source": [
    "Alvarez Loran Juan Pablo\n",
    "Lagunas Parra Ana Paola"
   ]
  },
  {
   "cell_type": "code",
   "execution_count": 1,
   "metadata": {
    "colab": {
     "base_uri": "https://localhost:8080/",
     "height": 564
    },
    "colab_type": "code",
    "id": "IHfzektif6Bb",
    "outputId": "1435064c-0446-4e81-972b-96249e5f4528"
   },
   "outputs": [
    {
     "data": {
      "text/html": [
       "<div>\n",
       "<style scoped>\n",
       "    .dataframe tbody tr th:only-of-type {\n",
       "        vertical-align: middle;\n",
       "    }\n",
       "\n",
       "    .dataframe tbody tr th {\n",
       "        vertical-align: top;\n",
       "    }\n",
       "\n",
       "    .dataframe thead th {\n",
       "        text-align: right;\n",
       "    }\n",
       "</style>\n",
       "<table border=\"1\" class=\"dataframe\">\n",
       "  <thead>\n",
       "    <tr style=\"text-align: right;\">\n",
       "      <th></th>\n",
       "      <th>ID</th>\n",
       "      <th>age</th>\n",
       "      <th>sex</th>\n",
       "      <th>city</th>\n",
       "      <th>province</th>\n",
       "      <th>country</th>\n",
       "      <th>wuhan(0)_not_wuhan(1)</th>\n",
       "      <th>latitude</th>\n",
       "      <th>longitude</th>\n",
       "      <th>geo_resolution</th>\n",
       "      <th>...</th>\n",
       "      <th>Unnamed: 35</th>\n",
       "      <th>Unnamed: 36</th>\n",
       "      <th>Unnamed: 37</th>\n",
       "      <th>Unnamed: 38</th>\n",
       "      <th>Unnamed: 39</th>\n",
       "      <th>Unnamed: 40</th>\n",
       "      <th>Unnamed: 41</th>\n",
       "      <th>Unnamed: 42</th>\n",
       "      <th>Unnamed: 43</th>\n",
       "      <th>Unnamed: 44</th>\n",
       "    </tr>\n",
       "  </thead>\n",
       "  <tbody>\n",
       "    <tr>\n",
       "      <th>0</th>\n",
       "      <td>1.0</td>\n",
       "      <td>30</td>\n",
       "      <td>male</td>\n",
       "      <td>Chaohu City, Hefei City</td>\n",
       "      <td>Anhui</td>\n",
       "      <td>China</td>\n",
       "      <td>1.0</td>\n",
       "      <td>31.646960</td>\n",
       "      <td>117.716600</td>\n",
       "      <td>admin3</td>\n",
       "      <td>...</td>\n",
       "      <td>NaN</td>\n",
       "      <td>NaN</td>\n",
       "      <td>NaN</td>\n",
       "      <td>NaN</td>\n",
       "      <td>NaN</td>\n",
       "      <td>NaN</td>\n",
       "      <td>NaN</td>\n",
       "      <td>NaN</td>\n",
       "      <td>NaN</td>\n",
       "      <td>NaN</td>\n",
       "    </tr>\n",
       "    <tr>\n",
       "      <th>1</th>\n",
       "      <td>2.0</td>\n",
       "      <td>47</td>\n",
       "      <td>male</td>\n",
       "      <td>Baohe District, Hefei City</td>\n",
       "      <td>Anhui</td>\n",
       "      <td>China</td>\n",
       "      <td>1.0</td>\n",
       "      <td>31.778630</td>\n",
       "      <td>117.331900</td>\n",
       "      <td>admin3</td>\n",
       "      <td>...</td>\n",
       "      <td>NaN</td>\n",
       "      <td>NaN</td>\n",
       "      <td>NaN</td>\n",
       "      <td>NaN</td>\n",
       "      <td>NaN</td>\n",
       "      <td>NaN</td>\n",
       "      <td>NaN</td>\n",
       "      <td>NaN</td>\n",
       "      <td>NaN</td>\n",
       "      <td>NaN</td>\n",
       "    </tr>\n",
       "    <tr>\n",
       "      <th>2</th>\n",
       "      <td>3.0</td>\n",
       "      <td>49</td>\n",
       "      <td>male</td>\n",
       "      <td>High-Tech Zone, Hefei City</td>\n",
       "      <td>Anhui</td>\n",
       "      <td>China</td>\n",
       "      <td>1.0</td>\n",
       "      <td>31.828313</td>\n",
       "      <td>117.224844</td>\n",
       "      <td>point</td>\n",
       "      <td>...</td>\n",
       "      <td>NaN</td>\n",
       "      <td>NaN</td>\n",
       "      <td>NaN</td>\n",
       "      <td>NaN</td>\n",
       "      <td>NaN</td>\n",
       "      <td>NaN</td>\n",
       "      <td>NaN</td>\n",
       "      <td>NaN</td>\n",
       "      <td>NaN</td>\n",
       "      <td>NaN</td>\n",
       "    </tr>\n",
       "    <tr>\n",
       "      <th>3</th>\n",
       "      <td>4.0</td>\n",
       "      <td>47</td>\n",
       "      <td>female</td>\n",
       "      <td>High-Tech Zone, Hefei City</td>\n",
       "      <td>Anhui</td>\n",
       "      <td>China</td>\n",
       "      <td>1.0</td>\n",
       "      <td>31.828313</td>\n",
       "      <td>117.224844</td>\n",
       "      <td>point</td>\n",
       "      <td>...</td>\n",
       "      <td>NaN</td>\n",
       "      <td>NaN</td>\n",
       "      <td>NaN</td>\n",
       "      <td>NaN</td>\n",
       "      <td>NaN</td>\n",
       "      <td>NaN</td>\n",
       "      <td>NaN</td>\n",
       "      <td>NaN</td>\n",
       "      <td>NaN</td>\n",
       "      <td>NaN</td>\n",
       "    </tr>\n",
       "    <tr>\n",
       "      <th>4</th>\n",
       "      <td>5.0</td>\n",
       "      <td>50</td>\n",
       "      <td>female</td>\n",
       "      <td>Feidong County, Hefei City</td>\n",
       "      <td>Anhui</td>\n",
       "      <td>China</td>\n",
       "      <td>1.0</td>\n",
       "      <td>32.001230</td>\n",
       "      <td>117.568100</td>\n",
       "      <td>admin3</td>\n",
       "      <td>...</td>\n",
       "      <td>NaN</td>\n",
       "      <td>NaN</td>\n",
       "      <td>NaN</td>\n",
       "      <td>NaN</td>\n",
       "      <td>NaN</td>\n",
       "      <td>NaN</td>\n",
       "      <td>NaN</td>\n",
       "      <td>NaN</td>\n",
       "      <td>NaN</td>\n",
       "      <td>NaN</td>\n",
       "    </tr>\n",
       "  </tbody>\n",
       "</table>\n",
       "<p>5 rows × 45 columns</p>\n",
       "</div>"
      ],
      "text/plain": [
       "    ID age     sex                        city province country  \\\n",
       "0  1.0  30    male     Chaohu City, Hefei City    Anhui   China   \n",
       "1  2.0  47    male  Baohe District, Hefei City    Anhui   China   \n",
       "2  3.0  49    male  High-Tech Zone, Hefei City    Anhui   China   \n",
       "3  4.0  47  female  High-Tech Zone, Hefei City    Anhui   China   \n",
       "4  5.0  50  female  Feidong County, Hefei City    Anhui   China   \n",
       "\n",
       "   wuhan(0)_not_wuhan(1)   latitude   longitude geo_resolution  ...  \\\n",
       "0                    1.0  31.646960  117.716600         admin3  ...   \n",
       "1                    1.0  31.778630  117.331900         admin3  ...   \n",
       "2                    1.0  31.828313  117.224844          point  ...   \n",
       "3                    1.0  31.828313  117.224844          point  ...   \n",
       "4                    1.0  32.001230  117.568100         admin3  ...   \n",
       "\n",
       "  Unnamed: 35 Unnamed: 36 Unnamed: 37 Unnamed: 38 Unnamed: 39 Unnamed: 40  \\\n",
       "0         NaN         NaN         NaN         NaN         NaN         NaN   \n",
       "1         NaN         NaN         NaN         NaN         NaN         NaN   \n",
       "2         NaN         NaN         NaN         NaN         NaN         NaN   \n",
       "3         NaN         NaN         NaN         NaN         NaN         NaN   \n",
       "4         NaN         NaN         NaN         NaN         NaN         NaN   \n",
       "\n",
       "  Unnamed: 41 Unnamed: 42 Unnamed: 43  Unnamed: 44  \n",
       "0         NaN         NaN         NaN          NaN  \n",
       "1         NaN         NaN         NaN          NaN  \n",
       "2         NaN         NaN         NaN          NaN  \n",
       "3         NaN         NaN         NaN          NaN  \n",
       "4         NaN         NaN         NaN          NaN  \n",
       "\n",
       "[5 rows x 45 columns]"
      ]
     },
     "execution_count": 1,
     "metadata": {},
     "output_type": "execute_result"
    }
   ],
   "source": [
    "import pandas as pd\n",
    "import numpy as np\n",
    "import seaborn as sns\n",
    "import matplotlib.pyplot as plt\n",
    "\n",
    "\n",
    "datos_covid=pd.read_csv(\"https://raw.githubusercontent.com/adrishg/PythonML-PrebecariosProteco/master/DataSets/COVID19_open_line_list.csv?fbclid=IwAR2e-VdsdmyWbo6DOS_Pe3Fh2czQ3AYpDN6qtxXhZD4HvwZVaSMp-biutpA\")\n",
    "datos_covid.info\n",
    "datos_covid.head()"
   ]
  },
  {
   "cell_type": "markdown",
   "metadata": {
    "colab_type": "text",
    "id": "Ch2vyU1ESV7J"
   },
   "source": [
    "Como se puede ver en la tabla, hay gran cantidad de filas y columnas vacías o con datos que no se utilizarán por lo que el primer paso es filtrar los datos en los que estamos interesados."
   ]
  },
  {
   "cell_type": "code",
   "execution_count": 2,
   "metadata": {
    "colab": {
     "base_uri": "https://localhost:8080/",
     "height": 204
    },
    "colab_type": "code",
    "id": "wIrj-uT2mHDX",
    "outputId": "3570c62b-0c40-4949-89bb-12786ead4aff"
   },
   "outputs": [
    {
     "data": {
      "text/html": [
       "<div>\n",
       "<style scoped>\n",
       "    .dataframe tbody tr th:only-of-type {\n",
       "        vertical-align: middle;\n",
       "    }\n",
       "\n",
       "    .dataframe tbody tr th {\n",
       "        vertical-align: top;\n",
       "    }\n",
       "\n",
       "    .dataframe thead th {\n",
       "        text-align: right;\n",
       "    }\n",
       "</style>\n",
       "<table border=\"1\" class=\"dataframe\">\n",
       "  <thead>\n",
       "    <tr style=\"text-align: right;\">\n",
       "      <th></th>\n",
       "      <th>Edad</th>\n",
       "      <th>Sexo</th>\n",
       "    </tr>\n",
       "  </thead>\n",
       "  <tbody>\n",
       "    <tr>\n",
       "      <th>3</th>\n",
       "      <td>47.0</td>\n",
       "      <td>female</td>\n",
       "    </tr>\n",
       "    <tr>\n",
       "      <th>4</th>\n",
       "      <td>50.0</td>\n",
       "      <td>female</td>\n",
       "    </tr>\n",
       "    <tr>\n",
       "      <th>6</th>\n",
       "      <td>42.0</td>\n",
       "      <td>female</td>\n",
       "    </tr>\n",
       "    <tr>\n",
       "      <th>8</th>\n",
       "      <td>59.0</td>\n",
       "      <td>female</td>\n",
       "    </tr>\n",
       "    <tr>\n",
       "      <th>13</th>\n",
       "      <td>38.0</td>\n",
       "      <td>female</td>\n",
       "    </tr>\n",
       "  </tbody>\n",
       "</table>\n",
       "</div>"
      ],
      "text/plain": [
       "    Edad    Sexo\n",
       "3   47.0  female\n",
       "4   50.0  female\n",
       "6   42.0  female\n",
       "8   59.0  female\n",
       "13  38.0  female"
      ]
     },
     "execution_count": 2,
     "metadata": {},
     "output_type": "execute_result"
    }
   ],
   "source": [
    "#Utilizaremos expresiones regulares para el filtrado de algunos datos \n",
    "import re\n",
    "\n",
    "#En un diccionario guardamos las columnas de interés y las pasamos a un dataframe \n",
    "datos_covid_female=datos_covid[datos_covid.sex==\"female\"]\n",
    "d={'Edad':datos_covid_female[\"age\"], 'Sexo': datos_covid_female[\"sex\"]}\n",
    "datos_covid_female_filtrados= pd.DataFrame(data=d)\n",
    "\n",
    "#Dentro del dataframe eliminamos los valores Nan\n",
    "datos_covid_female_filtrados=datos_covid_female_filtrados.dropna()\n",
    "\n",
    "lista_datos=list(datos_covid_female_filtrados[\"Edad\"])\n",
    "\n",
    " #Debido a que algunas edades estan dadas en rangos (por ejemplo, 60-65 años) por medio de regex \n",
    " #vamos a filtrar esos rangos y se ocupará la media de ese rango como la edad \n",
    "for i in lista_datos:\n",
    "    x=re.match(r\"(\\d*)-(\\d*)\",i)\n",
    "    if x:\n",
    "        prom=(int(x.group(1))+int(x.group(2)))/2\n",
    "        prom=int(prom)\n",
    "        index=lista_datos.index(i)\n",
    "        lista_datos[index]=str(prom)\n",
    "\n",
    "datos_covid_female_filtrados[\"Edad\"]=lista_datos\n",
    "\n",
    "datos_covid_female_filtrados[\"Edad\"]= pd.to_numeric(datos_covid_female_filtrados[\"Edad\"])\n",
    "\n",
    "#La lista filtrada con los valores acondicionados para su uso \n",
    "datos_covid_female_filtrados.head()\n",
    "\n"
   ]
  },
  {
   "cell_type": "code",
   "execution_count": 3,
   "metadata": {
    "colab": {},
    "colab_type": "code",
    "id": "B5tFAidz8CvP"
   },
   "outputs": [],
   "source": [
    "#Contamos la incidencia de casos por edad \n",
    "conteo_edades=datos_covid_female_filtrados[\"Edad\"].value_counts()\n"
   ]
  },
  {
   "cell_type": "markdown",
   "metadata": {
    "colab_type": "text",
    "id": "rf-zBaoRUiqD"
   },
   "source": [
    "En la siguiente gráfica podemos ver los casos de infección por edad en China"
   ]
  },
  {
   "cell_type": "code",
   "execution_count": 4,
   "metadata": {
    "colab": {
     "base_uri": "https://localhost:8080/",
     "height": 295
    },
    "colab_type": "code",
    "id": "Db8EnZYS7Brj",
    "outputId": "89891d62-e45e-4b34-9c13-6d0481284cbe"
   },
   "outputs": [
    {
     "data": {
      "image/png": "[encoded data removed]",
      "text/plain": [
       "<Figure size 432x288 with 1 Axes>"
      ]
     },
     "metadata": {
      "needs_background": "light"
     },
     "output_type": "display_data"
    }
   ],
   "source": [
    "#Graficamos los datos obtenidos en una grafica de dispersión\n",
    "X= list(conteo_edades.keys())\n",
    "Y= list(conteo_edades.values)\n",
    "plt.scatter(X,Y)\n",
    "plt.xlabel('Edad')\n",
    "plt.ylabel('Numero de infectados')\n",
    "plt.title('Mujeres contagiadas basandonos en la edad')\n",
    "plt.show()"
   ]
  },
  {
   "cell_type": "markdown",
   "metadata": {
    "colab_type": "text",
    "id": "Xww2j3PFMbWU"
   },
   "source": [
    "# Modelo desde Scratch\n",
    "\n",
    "Este modelo se construye desde cero, sin le uso de bibliotecas como lo es scikit-learn"
   ]
  },
  {
   "cell_type": "code",
   "execution_count": 5,
   "metadata": {
    "colab": {
     "base_uri": "https://localhost:8080/",
     "height": 295
    },
    "colab_type": "code",
    "id": "-f6Bw92_hfju",
    "outputId": "9da4f244-1a96-471e-e01b-b8a7611075df"
   },
   "outputs": [
    {
     "data": {
      "image/png": "[encoded data removed]",
      "text/plain": [
       "<Figure size 432x288 with 1 Axes>"
      ]
     },
     "metadata": {
      "needs_background": "light"
     },
     "output_type": "display_data"
    }
   ],
   "source": [
    "# Pasamos a un dataframe los datos de edad y conteo de infectados\n",
    "d={'Edad':conteo_edades.keys(), 'Conteo': conteo_edades.values}\n",
    "datos_scratch=pd.DataFrame(d)\n",
    "\n",
    "# Dividimos los datos en train y test\n",
    "datos_scratch_shuffle= datos_scratch.sample(frac=1)\n",
    "\n",
    "# El tamaño del train set será el 70% de los datos\n",
    "train_size=int(0.7*len(datos_scratch))\n",
    "\n",
    "train_set=datos_scratch_shuffle[:train_size]\n",
    "# El otro 30% serán datos de entrenamiento\n",
    "test_set=datos_scratch_shuffle[train_size:]\n",
    "\n",
    "#Convertimos los valores a listas para un manejo estandarizado\n",
    "\n",
    "train_set_ejex=train_set[\"Edad\"]\n",
    "train_set_ejex=train_set_ejex.values\n",
    "train_set_ejey=train_set[\"Conteo\"]\n",
    "train_set_ejey=train_set_ejey.values\n",
    "\n",
    "test_set_ejex=test_set[\"Edad\"]\n",
    "test_set_ejex=test_set_ejex.values\n",
    "test_set_ejey=test_set[\"Conteo\"]\n",
    "test_set_ejey=test_set_ejey.values\n",
    "\n",
    "#Graficamos datos de entrenamiento\n",
    "plt.scatter(train_set[\"Edad\"],train_set['Conteo'], color='m')\n",
    "plt.title('Datos de entrenamiento')\n",
    "plt.xlabel('Edad')\n",
    "plt.ylabel('Numero de infectados')\n",
    "plt.show()"
   ]
  },
  {
   "cell_type": "markdown",
   "metadata": {
    "colab_type": "text",
    "id": "8nqOtIZ7WQ31"
   },
   "source": [
    "## Regresión lineal\n",
    "Se probará el ajuste de la curva con una regresión lineal simple.\n",
    "\\begin{equation}\n",
    "y_{i}= \\beta_{0} + \\beta_{1}x\n",
    "\\end{equation}\n",
    "Evidentemente este método no satisface la forma en que los datos se dispersan\n",
    "\n",
    "El modelo de entrenamiento utilizado es el siguiente \n",
    "\n",
    "\\begin{equation}\n",
    "w=(X^{T}X)^{-1}X^{T}y\n",
    "\\end{equation}"
   ]
  },
  {
   "cell_type": "code",
   "execution_count": 6,
   "metadata": {
    "colab": {
     "base_uri": "https://localhost:8080/",
     "height": 279
    },
    "colab_type": "code",
    "id": "3jxlMd0IjFVA",
    "outputId": "39ec3ada-bb67-4756-b541-2ceb09dba5c9"
   },
   "outputs": [
    {
     "data": {
      "image/png": "[encoded data removed]",
      "text/plain": [
       "<Figure size 432x288 with 1 Axes>"
      ]
     },
     "metadata": {
      "needs_background": "light"
     },
     "output_type": "display_data"
    }
   ],
   "source": [
    "#iniciamos con un modelo de regresion lineal\n",
    "N= len(train_set)\n",
    "X=np.c_[np.ones(N), train_set_ejex]\n",
    "A=np.linalg.inv(X.T@X)\n",
    "D=A@X.T\n",
    "\n",
    "resultado=D@train_set_ejey\n",
    "\n",
    "y_pred=[]\n",
    "\n",
    "def regresion_lineal(x,y,b):\n",
    "  plt.scatter(x,y, color=\"m\", marker=\"o\",s=30)\n",
    "\n",
    "  global y_pred\n",
    "  y_pred=b[0]+b[1]*x\n",
    "\n",
    "  plt.plot(x,y_pred,color=\"g\")\n",
    "\n",
    "  plt.xlabel('x')\n",
    "  plt.ylabel('y')\n",
    "\n",
    "  plt.show()\n",
    "\n",
    "plt.scatter(train_set_ejex, train_set_ejey, color = 'm', marker = 'o', s = 30)\n",
    "regresion_lineal(train_set_ejex, train_set_ejey, resultado)"
   ]
  },
  {
   "cell_type": "code",
   "execution_count": 7,
   "metadata": {
    "colab": {
     "base_uri": "https://localhost:8080/",
     "height": 34
    },
    "colab_type": "code",
    "id": "S4Y2M7RFjTVn",
    "outputId": "275022b7-8609-42c3-c80e-c2d7de4a4291"
   },
   "outputs": [
    {
     "name": "stdout",
     "output_type": "stream",
     "text": [
      "Error cuadrático medio del train set:  28.224143438040848\n"
     ]
    }
   ],
   "source": [
    "# calculamos el error cuadratico medio \n",
    "\n",
    "A=np.square(y_pred - train_set_ejey)\n",
    "error=np.sum(A)/N\n",
    "\n",
    "print(\"Error cuadrático medio del train set: \", error)\n",
    "\n"
   ]
  },
  {
   "cell_type": "code",
   "execution_count": 8,
   "metadata": {
    "colab": {
     "base_uri": "https://localhost:8080/",
     "height": 279
    },
    "colab_type": "code",
    "id": "5ljqrJ8WjVaE",
    "outputId": "e0d10f65-e6a7-4299-a62b-2ae602c92423"
   },
   "outputs": [
    {
     "data": {
      "image/png": "[encoded data removed]",
      "text/plain": [
       "<Figure size 432x288 with 1 Axes>"
      ]
     },
     "metadata": {
      "needs_background": "light"
     },
     "output_type": "display_data"
    }
   ],
   "source": [
    "# Le mostramos al modelo valores no conocidos (test set)\n",
    "plt.scatter(test_set_ejex, test_set_ejey, color=\"b\", marker=\"o\", s=30)\n",
    "\n",
    "y_pred_test=[]\n",
    "\n",
    "def regresion_lineal_test(x,y,b):\n",
    "  plt.scatter(x,y, color=\"m\", marker=\"o\",s=30)\n",
    "\n",
    "  global y_pred_test\n",
    "  y_pred_test=b[0]+b[1]*x\n",
    "\n",
    "  plt.plot(x,y_pred_test,color=\"g\")\n",
    "\n",
    "  plt.xlabel('x')\n",
    "  plt.ylabel('y')\n",
    "\n",
    "  plt.show()\n",
    "\n",
    "regresion_lineal_test(test_set_ejex, test_set_ejey, resultado)"
   ]
  },
  {
   "cell_type": "code",
   "execution_count": 9,
   "metadata": {
    "colab": {
     "base_uri": "https://localhost:8080/",
     "height": 34
    },
    "colab_type": "code",
    "id": "s3nFi-b9U3EM",
    "outputId": "ce2d1cbc-012e-4319-b847-13fb33ada98d"
   },
   "outputs": [
    {
     "name": "stdout",
     "output_type": "stream",
     "text": [
      "Error cuadrático medio del test set:  8.538949016592682\n"
     ]
    }
   ],
   "source": [
    "# calculamos el error cuadratico medio \n",
    "\n",
    "A=np.square(y_pred_test - test_set_ejey)\n",
    "error=np.sum(A)/N\n",
    "\n",
    "print(\"Error cuadrático medio del test set: \", error)"
   ]
  },
  {
   "cell_type": "markdown",
   "metadata": {
    "colab_type": "text",
    "id": "sp5gBvczZNQr"
   },
   "source": [
    "# Modelo de regresión polinomial\n",
    "\n",
    "Dado que la regresión lineal simple no satisface los puntos, se utilizará una regresion de segundo grado.\n",
    "\n",
    "\\begin{equation}\n",
    "y_{i}= \\beta_{0} + \\beta_{1}x_{i} + \\beta_{2}x_{i}^2\n",
    "\\end{equation}\n",
    "\n",
    "Utilizando el mismo modelo de entrenamiento\n",
    "\n",
    "\\begin{equation}\n",
    "w=(X^{T}X)^{-1}X^{T}y\n",
    "\\end{equation}"
   ]
  },
  {
   "cell_type": "code",
   "execution_count": 10,
   "metadata": {
    "colab": {
     "base_uri": "https://localhost:8080/",
     "height": 279
    },
    "colab_type": "code",
    "id": "02McZDv3Y0bK",
    "outputId": "53be22b2-a110-4054-b478-1f39bd033ec0"
   },
   "outputs": [
    {
     "data": {
      "image/png": "[encoded data removed]",
      "text/plain": [
       "<Figure size 432x288 with 1 Axes>"
      ]
     },
     "metadata": {
      "needs_background": "light"
     },
     "output_type": "display_data"
    }
   ],
   "source": [
    "# Implementamos un modelo de segundo grado\n",
    "N=len(train_set)\n",
    "X=np.c_[np.ones(N), train_set_ejex, np.square(train_set)]\n",
    "A=np.linalg.inv(X.T@X)\n",
    "D=A@X.T\n",
    "\n",
    "coeficientes= D@train_set_ejey\n",
    "\n",
    "y_pred_cuadratico=[]\n",
    "\n",
    "def regresion_lineal(x,y,b):\n",
    "\n",
    "    plt.scatter(x, y, color = \"m\",marker = \"o\", s = 30) \n",
    "\n",
    "    x_line = np.linspace(train_set_ejex.min(), train_set_ejex.max(), len(train_set_ejey))\n",
    "    global y_pred_cuadratico\n",
    "    y_pred_cuadratico = b[2]*np.square(x_line) + b[1]*x_line + b[0] \n",
    "    regresion_linea = y_pred_cuadratico\n",
    "    plt.plot(x_line, regresion_linea, color = \"g\") \n",
    "    plt.xlabel('x') \n",
    "    plt.ylabel('y') \n",
    "\n",
    "plt.scatter(train_set_ejex, train_set_ejey, color = 'm', marker = 'o', s = 30)\n",
    "regresion_lineal(train_set_ejex, train_set_ejey, coeficientes)\n",
    "plt.show() "
   ]
  },
  {
   "cell_type": "code",
   "execution_count": 11,
   "metadata": {
    "colab": {
     "base_uri": "https://localhost:8080/",
     "height": 34
    },
    "colab_type": "code",
    "id": "VtKjA2ZQawQN",
    "outputId": "3da361a2-64b3-4910-9922-ab5e2b78b6b0"
   },
   "outputs": [
    {
     "name": "stdout",
     "output_type": "stream",
     "text": [
      "Error cuadrático medio del train set:  45.67022805550949\n"
     ]
    }
   ],
   "source": [
    "# calculamos el error cuadratico medio \n",
    "\n",
    "A=np.square(y_pred_cuadratico - train_set_ejey)\n",
    "error=np.sum(A)/N\n",
    "\n",
    "print(\"Error cuadrático medio del train set: \", error)"
   ]
  },
  {
   "cell_type": "code",
   "execution_count": 12,
   "metadata": {
    "colab": {
     "base_uri": "https://localhost:8080/",
     "height": 279
    },
    "colab_type": "code",
    "id": "-aN_0nmjj1p9",
    "outputId": "8aee13a3-fdb2-4159-d345-1afed13c8739"
   },
   "outputs": [
    {
     "data": {
      "image/png": "[encoded data removed]",
      "text/plain": [
       "<Figure size 432x288 with 1 Axes>"
      ]
     },
     "metadata": {
      "needs_background": "light"
     },
     "output_type": "display_data"
    }
   ],
   "source": [
    "#Usamos los datos de entrenamiento\n",
    "y_pred_cuadratico_test=[]\n",
    "def regresion_lineal(x,y,b):\n",
    "\n",
    "    plt.scatter(x, y, color = \"m\",marker = \"o\", s = 30) \n",
    "\n",
    "    x_line = np.linspace(test_set_ejex.min(), test_set_ejex.max(), len(test_set_ejey))\n",
    "    global y_pred_cuadratico_test\n",
    "    y_pred_cuadratico_test = b[2]*np.square(x_line) + b[1]*x_line + b[0] \n",
    "    regresion_linea = y_pred_cuadratico_test\n",
    "    \n",
    "    plt.plot(x_line, regresion_linea, color = \"g\") \n",
    "  \n",
    "    plt.xlabel('x') \n",
    "    plt.ylabel('y') \n",
    "\n",
    "plt.scatter(test_set_ejex, test_set_ejey, color = 'm', marker = 'o', s = 30)\n",
    "regresion_lineal(test_set_ejex, test_set_ejey, coeficientes)\n",
    "plt.show() "
   ]
  },
  {
   "cell_type": "code",
   "execution_count": 13,
   "metadata": {
    "colab": {
     "base_uri": "https://localhost:8080/",
     "height": 34
    },
    "colab_type": "code",
    "id": "PXaa0heFqQsp",
    "outputId": "f9e0e9ed-8dd8-4116-fff9-8adaaeeb1ef6"
   },
   "outputs": [
    {
     "name": "stdout",
     "output_type": "stream",
     "text": [
      "Error cuadrático medio del test set:  8.502346661970662\n"
     ]
    }
   ],
   "source": [
    "A=np.square(y_pred_cuadratico_test - test_set_ejey)\n",
    "error=np.sum(A)/N\n",
    "\n",
    "print(\"Error cuadrático medio del test set: \", error)"
   ]
  },
  {
   "cell_type": "markdown",
   "metadata": {
    "colab_type": "text",
    "id": "mEIHvlzibFRi"
   },
   "source": [
    "# Modelo con el uso de scikit learn"
   ]
  },
  {
   "cell_type": "markdown",
   "metadata": {
    "colab": {},
    "colab_type": "code",
    "id": "j1av_v5cbM1D"
   },
   "source": [
    "En un principio se había pensado usar regresión lineal pero como nos dimos cuenta los datos no se ajustaban a ese modelo."
   ]
  },
  {
   "cell_type": "markdown",
   "metadata": {},
   "source": [
    "Es necesario también importar ciertas librerias."
   ]
  },
  {
   "cell_type": "code",
   "execution_count": 14,
   "metadata": {},
   "outputs": [
    {
     "name": "stdout",
     "output_type": "stream",
     "text": [
      "        ID  age     sex                        city province country  \\\n",
      "0      1.0   30    male     Chaohu City, Hefei City    Anhui   China   \n",
      "1      2.0   47    male  Baohe District, Hefei City    Anhui   China   \n",
      "2      3.0   49    male  High-Tech Zone, Hefei City    Anhui   China   \n",
      "3      4.0   47  female  High-Tech Zone, Hefei City    Anhui   China   \n",
      "4      5.0   50  female  Feidong County, Hefei City    Anhui   China   \n",
      "...    ...  ...     ...                         ...      ...     ...   \n",
      "14121  NaN  NaN     NaN                         NaN      NaN     NaN   \n",
      "14122  NaN  NaN     NaN                         NaN      NaN     NaN   \n",
      "14123  NaN  NaN     NaN                         NaN      NaN     NaN   \n",
      "14124  NaN  NaN     NaN                         NaN      NaN     NaN   \n",
      "14125  NaN  NaN     NaN                         NaN      NaN     NaN   \n",
      "\n",
      "       wuhan(0)_not_wuhan(1)   latitude   longitude geo_resolution  ...  \\\n",
      "0                        1.0  31.646960  117.716600         admin3  ...   \n",
      "1                        1.0  31.778630  117.331900         admin3  ...   \n",
      "2                        1.0  31.828313  117.224844          point  ...   \n",
      "3                        1.0  31.828313  117.224844          point  ...   \n",
      "4                        1.0  32.001230  117.568100         admin3  ...   \n",
      "...                      ...        ...         ...            ...  ...   \n",
      "14121                    NaN        NaN         NaN            NaN  ...   \n",
      "14122                    NaN        NaN         NaN            NaN  ...   \n",
      "14123                    NaN        NaN         NaN            NaN  ...   \n",
      "14124                    NaN        NaN         NaN            NaN  ...   \n",
      "14125                    NaN        NaN         NaN            NaN  ...   \n",
      "\n",
      "      Unnamed: 35 Unnamed: 36 Unnamed: 37 Unnamed: 38 Unnamed: 39 Unnamed: 40  \\\n",
      "0             NaN         NaN         NaN         NaN         NaN         NaN   \n",
      "1             NaN         NaN         NaN         NaN         NaN         NaN   \n",
      "2             NaN         NaN         NaN         NaN         NaN         NaN   \n",
      "3             NaN         NaN         NaN         NaN         NaN         NaN   \n",
      "4             NaN         NaN         NaN         NaN         NaN         NaN   \n",
      "...           ...         ...         ...         ...         ...         ...   \n",
      "14121         NaN         NaN         NaN         NaN         NaN         NaN   \n",
      "14122         NaN         NaN         NaN         NaN         NaN         NaN   \n",
      "14123         NaN         NaN         NaN         NaN         NaN         NaN   \n",
      "14124         NaN         NaN         NaN         NaN         NaN         NaN   \n",
      "14125         NaN         NaN         NaN         NaN         NaN         NaN   \n",
      "\n",
      "      Unnamed: 41 Unnamed: 42 Unnamed: 43  Unnamed: 44  \n",
      "0             NaN         NaN         NaN          NaN  \n",
      "1             NaN         NaN         NaN          NaN  \n",
      "2             NaN         NaN         NaN          NaN  \n",
      "3             NaN         NaN         NaN          NaN  \n",
      "4             NaN         NaN         NaN          NaN  \n",
      "...           ...         ...         ...          ...  \n",
      "14121         NaN         NaN         NaN          NaN  \n",
      "14122         NaN         NaN         NaN          NaN  \n",
      "14123         NaN         NaN         NaN          NaN  \n",
      "14124         NaN         NaN         NaN          NaN  \n",
      "14125         NaN         NaN         NaN          NaN  \n",
      "\n",
      "[14126 rows x 45 columns]\n"
     ]
    }
   ],
   "source": [
    "import numpy as np\n",
    "from sklearn import datasets, linear_model\n",
    "import matplotlib.pyplot as plt\n",
    "\n",
    "datos_covid=pd.read_csv(\"https://raw.githubusercontent.com/adrishg/PythonML-PrebecariosProteco/master/DataSets/COVID19_open_line_list.csv?fbclid=IwAR2e-VdsdmyWbo6DOS_Pe3Fh2czQ3AYpDN6qtxXhZD4HvwZVaSMp-biutpA\")\n",
    "print(datos_covid)"
   ]
  },
  {
   "cell_type": "markdown",
   "metadata": {},
   "source": [
    "# Vamos a verificar los datos del dataset"
   ]
  },
  {
   "cell_type": "code",
   "execution_count": 15,
   "metadata": {},
   "outputs": [
    {
     "name": "stdout",
     "output_type": "stream",
     "text": [
      "Información en el dataset:\n",
      "Index(['ID', 'age', 'sex', 'city', 'province', 'country',\n",
      "       'wuhan(0)_not_wuhan(1)', 'latitude', 'longitude', 'geo_resolution',\n",
      "       'date_onset_symptoms', 'date_admission_hospital', 'date_confirmation',\n",
      "       'symptoms', 'lives_in_Wuhan', 'travel_history_dates',\n",
      "       'travel_history_location', 'reported_market_exposure',\n",
      "       'additional_information', 'chronic_disease_binary', 'chronic_disease',\n",
      "       'source', 'sequence_available', 'outcome', 'date_death_or_discharge',\n",
      "       'notes_for_discussion', 'location', 'admin3', 'admin2', 'admin1',\n",
      "       'country_new', 'admin_id', 'data_moderator_initials', 'Unnamed: 33',\n",
      "       'Unnamed: 34', 'Unnamed: 35', 'Unnamed: 36', 'Unnamed: 37',\n",
      "       'Unnamed: 38', 'Unnamed: 39', 'Unnamed: 40', 'Unnamed: 41',\n",
      "       'Unnamed: 42', 'Unnamed: 43', 'Unnamed: 44'],\n",
      "      dtype='object')\n",
      "\n"
     ]
    }
   ],
   "source": [
    "print('Información en el dataset:')\n",
    "print(datos_covid.keys())\n",
    "print()\n"
   ]
  },
  {
   "cell_type": "markdown",
   "metadata": {},
   "source": [
    "# Vamos a verificar las caracteristicas del dataset"
   ]
  },
  {
   "cell_type": "code",
   "execution_count": 16,
   "metadata": {},
   "outputs": [
    {
     "name": "stdout",
     "output_type": "stream",
     "text": [
      "Características del dataset:\n",
      "<bound method NDFrame.describe of         ID  age     sex                        city province country  \\\n",
      "0      1.0   30    male     Chaohu City, Hefei City    Anhui   China   \n",
      "1      2.0   47    male  Baohe District, Hefei City    Anhui   China   \n",
      "2      3.0   49    male  High-Tech Zone, Hefei City    Anhui   China   \n",
      "3      4.0   47  female  High-Tech Zone, Hefei City    Anhui   China   \n",
      "4      5.0   50  female  Feidong County, Hefei City    Anhui   China   \n",
      "...    ...  ...     ...                         ...      ...     ...   \n",
      "14121  NaN  NaN     NaN                         NaN      NaN     NaN   \n",
      "14122  NaN  NaN     NaN                         NaN      NaN     NaN   \n",
      "14123  NaN  NaN     NaN                         NaN      NaN     NaN   \n",
      "14124  NaN  NaN     NaN                         NaN      NaN     NaN   \n",
      "14125  NaN  NaN     NaN                         NaN      NaN     NaN   \n",
      "\n",
      "       wuhan(0)_not_wuhan(1)   latitude   longitude geo_resolution  ...  \\\n",
      "0                        1.0  31.646960  117.716600         admin3  ...   \n",
      "1                        1.0  31.778630  117.331900         admin3  ...   \n",
      "2                        1.0  31.828313  117.224844          point  ...   \n",
      "3                        1.0  31.828313  117.224844          point  ...   \n",
      "4                        1.0  32.001230  117.568100         admin3  ...   \n",
      "...                      ...        ...         ...            ...  ...   \n",
      "14121                    NaN        NaN         NaN            NaN  ...   \n",
      "14122                    NaN        NaN         NaN            NaN  ...   \n",
      "14123                    NaN        NaN         NaN            NaN  ...   \n",
      "14124                    NaN        NaN         NaN            NaN  ...   \n",
      "14125                    NaN        NaN         NaN            NaN  ...   \n",
      "\n",
      "      Unnamed: 35 Unnamed: 36 Unnamed: 37 Unnamed: 38 Unnamed: 39 Unnamed: 40  \\\n",
      "0             NaN         NaN         NaN         NaN         NaN         NaN   \n",
      "1             NaN         NaN         NaN         NaN         NaN         NaN   \n",
      "2             NaN         NaN         NaN         NaN         NaN         NaN   \n",
      "3             NaN         NaN         NaN         NaN         NaN         NaN   \n",
      "4             NaN         NaN         NaN         NaN         NaN         NaN   \n",
      "...           ...         ...         ...         ...         ...         ...   \n",
      "14121         NaN         NaN         NaN         NaN         NaN         NaN   \n",
      "14122         NaN         NaN         NaN         NaN         NaN         NaN   \n",
      "14123         NaN         NaN         NaN         NaN         NaN         NaN   \n",
      "14124         NaN         NaN         NaN         NaN         NaN         NaN   \n",
      "14125         NaN         NaN         NaN         NaN         NaN         NaN   \n",
      "\n",
      "      Unnamed: 41 Unnamed: 42 Unnamed: 43  Unnamed: 44  \n",
      "0             NaN         NaN         NaN          NaN  \n",
      "1             NaN         NaN         NaN          NaN  \n",
      "2             NaN         NaN         NaN          NaN  \n",
      "3             NaN         NaN         NaN          NaN  \n",
      "4             NaN         NaN         NaN          NaN  \n",
      "...           ...         ...         ...          ...  \n",
      "14121         NaN         NaN         NaN          NaN  \n",
      "14122         NaN         NaN         NaN          NaN  \n",
      "14123         NaN         NaN         NaN          NaN  \n",
      "14124         NaN         NaN         NaN          NaN  \n",
      "14125         NaN         NaN         NaN          NaN  \n",
      "\n",
      "[14126 rows x 45 columns]>\n"
     ]
    }
   ],
   "source": [
    "print('Características del dataset:')\n",
    "print(datos_covid.describe)"
   ]
  },
  {
   "cell_type": "markdown",
   "metadata": {},
   "source": [
    "# Vamos a saber la cantidad de datos y el nombre de las columnas"
   ]
  },
  {
   "cell_type": "code",
   "execution_count": 17,
   "metadata": {},
   "outputs": [
    {
     "name": "stdout",
     "output_type": "stream",
     "text": [
      "Cantidad de datos:\n",
      "(14126, 45)\n",
      "\n"
     ]
    }
   ],
   "source": [
    "print('Cantidad de datos:')\n",
    "print(datos_covid.shape)\n",
    "print()\n"
   ]
  },
  {
   "cell_type": "code",
   "execution_count": 18,
   "metadata": {},
   "outputs": [
    {
     "name": "stdout",
     "output_type": "stream",
     "text": [
      "Nombres columnas:\n",
      "<bound method NDFrame.head of         ID  age     sex                        city province country  \\\n",
      "0      1.0   30    male     Chaohu City, Hefei City    Anhui   China   \n",
      "1      2.0   47    male  Baohe District, Hefei City    Anhui   China   \n",
      "2      3.0   49    male  High-Tech Zone, Hefei City    Anhui   China   \n",
      "3      4.0   47  female  High-Tech Zone, Hefei City    Anhui   China   \n",
      "4      5.0   50  female  Feidong County, Hefei City    Anhui   China   \n",
      "...    ...  ...     ...                         ...      ...     ...   \n",
      "14121  NaN  NaN     NaN                         NaN      NaN     NaN   \n",
      "14122  NaN  NaN     NaN                         NaN      NaN     NaN   \n",
      "14123  NaN  NaN     NaN                         NaN      NaN     NaN   \n",
      "14124  NaN  NaN     NaN                         NaN      NaN     NaN   \n",
      "14125  NaN  NaN     NaN                         NaN      NaN     NaN   \n",
      "\n",
      "       wuhan(0)_not_wuhan(1)   latitude   longitude geo_resolution  ...  \\\n",
      "0                        1.0  31.646960  117.716600         admin3  ...   \n",
      "1                        1.0  31.778630  117.331900         admin3  ...   \n",
      "2                        1.0  31.828313  117.224844          point  ...   \n",
      "3                        1.0  31.828313  117.224844          point  ...   \n",
      "4                        1.0  32.001230  117.568100         admin3  ...   \n",
      "...                      ...        ...         ...            ...  ...   \n",
      "14121                    NaN        NaN         NaN            NaN  ...   \n",
      "14122                    NaN        NaN         NaN            NaN  ...   \n",
      "14123                    NaN        NaN         NaN            NaN  ...   \n",
      "14124                    NaN        NaN         NaN            NaN  ...   \n",
      "14125                    NaN        NaN         NaN            NaN  ...   \n",
      "\n",
      "      Unnamed: 35 Unnamed: 36 Unnamed: 37 Unnamed: 38 Unnamed: 39 Unnamed: 40  \\\n",
      "0             NaN         NaN         NaN         NaN         NaN         NaN   \n",
      "1             NaN         NaN         NaN         NaN         NaN         NaN   \n",
      "2             NaN         NaN         NaN         NaN         NaN         NaN   \n",
      "3             NaN         NaN         NaN         NaN         NaN         NaN   \n",
      "4             NaN         NaN         NaN         NaN         NaN         NaN   \n",
      "...           ...         ...         ...         ...         ...         ...   \n",
      "14121         NaN         NaN         NaN         NaN         NaN         NaN   \n",
      "14122         NaN         NaN         NaN         NaN         NaN         NaN   \n",
      "14123         NaN         NaN         NaN         NaN         NaN         NaN   \n",
      "14124         NaN         NaN         NaN         NaN         NaN         NaN   \n",
      "14125         NaN         NaN         NaN         NaN         NaN         NaN   \n",
      "\n",
      "      Unnamed: 41 Unnamed: 42 Unnamed: 43  Unnamed: 44  \n",
      "0             NaN         NaN         NaN          NaN  \n",
      "1             NaN         NaN         NaN          NaN  \n",
      "2             NaN         NaN         NaN          NaN  \n",
      "3             NaN         NaN         NaN          NaN  \n",
      "4             NaN         NaN         NaN          NaN  \n",
      "...           ...         ...         ...          ...  \n",
      "14121         NaN         NaN         NaN          NaN  \n",
      "14122         NaN         NaN         NaN          NaN  \n",
      "14123         NaN         NaN         NaN          NaN  \n",
      "14124         NaN         NaN         NaN          NaN  \n",
      "14125         NaN         NaN         NaN          NaN  \n",
      "\n",
      "[14126 rows x 45 columns]>\n"
     ]
    }
   ],
   "source": [
    "print('Nombres columnas:')\n",
    "print(datos_covid.head)"
   ]
  },
  {
   "cell_type": "code",
   "execution_count": 19,
   "metadata": {},
   "outputs": [],
   "source": [
    "conteo_edades=datos_covid_female_filtrados[\"Edad\"].value_counts()"
   ]
  },
  {
   "cell_type": "markdown",
   "metadata": {},
   "source": [
    "/* X_p=conteo_edades\n",
    "print(X_p) */"
   ]
  },
  {
   "cell_type": "code",
   "execution_count": 20,
   "metadata": {},
   "outputs": [],
   "source": [
    "d={'Edad':conteo_edades.keys(), 'Conteo': conteo_edades.values}\n",
    "datos_scratch=pd.DataFrame(d)"
   ]
  },
  {
   "cell_type": "markdown",
   "metadata": {},
   "source": [
    "# /* Y_p = [] */"
   ]
  },
  {
   "cell_type": "code",
   "execution_count": 21,
   "metadata": {},
   "outputs": [],
   "source": [
    "X_p= list(conteo_edades.keys())\n",
    "Y_p= list(conteo_edades.values)"
   ]
  },
  {
   "cell_type": "markdown",
   "metadata": {},
   "source": [
    "# Usaremos los mismos set en sklearn y scratch"
   ]
  },
  {
   "cell_type": "code",
   "execution_count": 22,
   "metadata": {},
   "outputs": [],
   "source": [
    "datos_scratch_shuffle= datos_scratch.sample(frac=1)\n",
    "\n",
    "# El tamaño del train set será el 70% de los datos\n",
    "train_size=int(0.7*len(datos_scratch))\n",
    "\n",
    "train_set=datos_scratch_shuffle[:train_size]\n",
    "# El otro 30% serán datos de entrenamiento\n",
    "test_set=datos_scratch_shuffle[train_size:]\n",
    "\n",
    "train_set_ejex=train_set[\"Edad\"]\n",
    "train_set_ejex=train_set_ejex.values\n",
    "train_set_ejey=train_set[\"Conteo\"]\n",
    "train_set_ejey=train_set_ejey.values\n",
    "\n",
    "test_set_ejex=test_set[\"Edad\"]\n",
    "test_set_ejex=test_set_ejex.values\n",
    "test_set_ejey=test_set[\"Conteo\"]\n",
    "test_set_ejey=test_set_ejey.values"
   ]
  },
  {
   "cell_type": "markdown",
   "metadata": {},
   "source": [
    "## Implementaremos sklearn con regresion polinomial"
   ]
  },
  {
   "cell_type": "code",
   "execution_count": 23,
   "metadata": {},
   "outputs": [],
   "source": [
    "from sklearn.model_selection import train_test_split\n",
    "\n",
    "\n",
    "train_set_ejex, test_set_ejex, train_set_ejey, test_set_ejey= train_test_split(X_p, Y_p, test_size=0.2)\n"
   ]
  },
  {
   "cell_type": "markdown",
   "metadata": {},
   "source": [
    "Nuestro polinomio va a ser grado 2"
   ]
  },
  {
   "cell_type": "code",
   "execution_count": 24,
   "metadata": {},
   "outputs": [],
   "source": [
    "from sklearn.preprocessing import PolynomialFeatures\n",
    "\n",
    "poli_reg = PolynomialFeatures(degree = 2)\n"
   ]
  },
  {
   "cell_type": "code",
   "execution_count": 31,
   "metadata": {},
   "outputs": [
    {
     "ename": "ValueError",
     "evalue": "Expected 2D array, got 1D array instead:\narray=[4.000e+00 5.300e+01 3.500e+01 7.300e+01 3.800e+01 7.900e+01 5.700e+01\n 9.600e+01 7.400e+01 8.200e+01 1.100e+01 2.100e+01 8.400e+01 2.600e+01\n 7.600e+01 3.600e+01 2.800e+01 5.100e+01 5.500e+01 2.400e+01 2.700e+01\n 4.700e+01 6.900e+01 3.100e+01 8.000e+01 3.000e+01 6.500e+01 5.000e+00\n 5.200e+01 6.600e+01 2.900e+01 1.200e+01 4.300e+01 6.300e+01 5.800e+01\n 8.000e+00 4.400e+01 5.000e+01 6.800e+01 7.100e+01 6.100e+01 7.200e+01\n 9.400e+01 7.700e+01 2.200e+01 2.500e-01 5.600e+01 3.700e+01 8.333e-02\n 3.900e+01 6.400e+01 6.000e+01 4.100e+01 5.900e+01 2.500e+01 4.500e+01\n 1.600e+01 3.300e+01 4.000e+01 2.000e+01 1.750e+00 8.300e+01 1.000e+00].\nReshape your data either using array.reshape(-1, 1) if your data has a single feature or array.reshape(1, -1) if it contains a single sample.",
     "output_type": "error",
     "traceback": [
      "\u001b[0;31m---------------------------------------------------------------------------\u001b[0m",
      "\u001b[0;31mValueError\u001b[0m                                Traceback (most recent call last)",
      "\u001b[0;32m<ipython-input-31-ab6a5fa19ba7>\u001b[0m in \u001b[0;36m<module>\u001b[0;34m\u001b[0m\n\u001b[0;32m----> 1\u001b[0;31m \u001b[0mX_trainp\u001b[0m\u001b[0;34m=\u001b[0m \u001b[0mpoli_reg\u001b[0m\u001b[0;34m.\u001b[0m\u001b[0mfit_transform\u001b[0m\u001b[0;34m(\u001b[0m\u001b[0mtrain_set_ejex\u001b[0m\u001b[0;34m)\u001b[0m\u001b[0;34m\u001b[0m\u001b[0;34m\u001b[0m\u001b[0m\n\u001b[0m\u001b[1;32m      2\u001b[0m \u001b[0mX_trainp\u001b[0m\u001b[0;34m.\u001b[0m\u001b[0mreshape\u001b[0m\u001b[0;34m(\u001b[0m\u001b[0;34m-\u001b[0m\u001b[0;36m1\u001b[0m\u001b[0;34m,\u001b[0m\u001b[0;36m1\u001b[0m\u001b[0;34m)\u001b[0m\u001b[0;34m\u001b[0m\u001b[0;34m\u001b[0m\u001b[0m\n\u001b[1;32m      3\u001b[0m \u001b[0;34m\u001b[0m\u001b[0m\n\u001b[1;32m      4\u001b[0m \u001b[0mX_testp\u001b[0m \u001b[0;34m=\u001b[0m \u001b[0mpoli_reg\u001b[0m\u001b[0;34m.\u001b[0m\u001b[0mfit_transform\u001b[0m\u001b[0;34m(\u001b[0m\u001b[0mtest_set_ejex\u001b[0m\u001b[0;34m)\u001b[0m\u001b[0;34m\u001b[0m\u001b[0;34m\u001b[0m\u001b[0m\n",
      "\u001b[0;32m~/anaconda3/lib/python3.7/site-packages/sklearn/base.py\u001b[0m in \u001b[0;36mfit_transform\u001b[0;34m(self, X, y, **fit_params)\u001b[0m\n\u001b[1;32m    569\u001b[0m         \u001b[0;32mif\u001b[0m \u001b[0my\u001b[0m \u001b[0;32mis\u001b[0m \u001b[0;32mNone\u001b[0m\u001b[0;34m:\u001b[0m\u001b[0;34m\u001b[0m\u001b[0;34m\u001b[0m\u001b[0m\n\u001b[1;32m    570\u001b[0m             \u001b[0;31m# fit method of arity 1 (unsupervised transformation)\u001b[0m\u001b[0;34m\u001b[0m\u001b[0;34m\u001b[0m\u001b[0;34m\u001b[0m\u001b[0m\n\u001b[0;32m--> 571\u001b[0;31m             \u001b[0;32mreturn\u001b[0m \u001b[0mself\u001b[0m\u001b[0;34m.\u001b[0m\u001b[0mfit\u001b[0m\u001b[0;34m(\u001b[0m\u001b[0mX\u001b[0m\u001b[0;34m,\u001b[0m \u001b[0;34m**\u001b[0m\u001b[0mfit_params\u001b[0m\u001b[0;34m)\u001b[0m\u001b[0;34m.\u001b[0m\u001b[0mtransform\u001b[0m\u001b[0;34m(\u001b[0m\u001b[0mX\u001b[0m\u001b[0;34m)\u001b[0m\u001b[0;34m\u001b[0m\u001b[0;34m\u001b[0m\u001b[0m\n\u001b[0m\u001b[1;32m    572\u001b[0m         \u001b[0;32melse\u001b[0m\u001b[0;34m:\u001b[0m\u001b[0;34m\u001b[0m\u001b[0;34m\u001b[0m\u001b[0m\n\u001b[1;32m    573\u001b[0m             \u001b[0;31m# fit method of arity 2 (supervised transformation)\u001b[0m\u001b[0;34m\u001b[0m\u001b[0;34m\u001b[0m\u001b[0;34m\u001b[0m\u001b[0m\n",
      "\u001b[0;32m~/anaconda3/lib/python3.7/site-packages/sklearn/preprocessing/_data.py\u001b[0m in \u001b[0;36mfit\u001b[0;34m(self, X, y)\u001b[0m\n\u001b[1;32m   1506\u001b[0m         \u001b[0mself\u001b[0m \u001b[0;34m:\u001b[0m \u001b[0minstance\u001b[0m\u001b[0;34m\u001b[0m\u001b[0;34m\u001b[0m\u001b[0m\n\u001b[1;32m   1507\u001b[0m         \"\"\"\n\u001b[0;32m-> 1508\u001b[0;31m         \u001b[0mn_samples\u001b[0m\u001b[0;34m,\u001b[0m \u001b[0mn_features\u001b[0m \u001b[0;34m=\u001b[0m \u001b[0mcheck_array\u001b[0m\u001b[0;34m(\u001b[0m\u001b[0mX\u001b[0m\u001b[0;34m,\u001b[0m \u001b[0maccept_sparse\u001b[0m\u001b[0;34m=\u001b[0m\u001b[0;32mTrue\u001b[0m\u001b[0;34m)\u001b[0m\u001b[0;34m.\u001b[0m\u001b[0mshape\u001b[0m\u001b[0;34m\u001b[0m\u001b[0;34m\u001b[0m\u001b[0m\n\u001b[0m\u001b[1;32m   1509\u001b[0m         combinations = self._combinations(n_features, self.degree,\n\u001b[1;32m   1510\u001b[0m                                           \u001b[0mself\u001b[0m\u001b[0;34m.\u001b[0m\u001b[0minteraction_only\u001b[0m\u001b[0;34m,\u001b[0m\u001b[0;34m\u001b[0m\u001b[0;34m\u001b[0m\u001b[0m\n",
      "\u001b[0;32m~/anaconda3/lib/python3.7/site-packages/sklearn/utils/validation.py\u001b[0m in \u001b[0;36mcheck_array\u001b[0;34m(array, accept_sparse, accept_large_sparse, dtype, order, copy, force_all_finite, ensure_2d, allow_nd, ensure_min_samples, ensure_min_features, warn_on_dtype, estimator)\u001b[0m\n\u001b[1;32m    554\u001b[0m                     \u001b[0;34m\"Reshape your data either using array.reshape(-1, 1) if \"\u001b[0m\u001b[0;34m\u001b[0m\u001b[0;34m\u001b[0m\u001b[0m\n\u001b[1;32m    555\u001b[0m                     \u001b[0;34m\"your data has a single feature or array.reshape(1, -1) \"\u001b[0m\u001b[0;34m\u001b[0m\u001b[0;34m\u001b[0m\u001b[0m\n\u001b[0;32m--> 556\u001b[0;31m                     \"if it contains a single sample.\".format(array))\n\u001b[0m\u001b[1;32m    557\u001b[0m \u001b[0;34m\u001b[0m\u001b[0m\n\u001b[1;32m    558\u001b[0m         \u001b[0;31m# in the future np.flexible dtypes will be handled like object dtypes\u001b[0m\u001b[0;34m\u001b[0m\u001b[0;34m\u001b[0m\u001b[0;34m\u001b[0m\u001b[0m\n",
      "\u001b[0;31mValueError\u001b[0m: Expected 2D array, got 1D array instead:\narray=[4.000e+00 5.300e+01 3.500e+01 7.300e+01 3.800e+01 7.900e+01 5.700e+01\n 9.600e+01 7.400e+01 8.200e+01 1.100e+01 2.100e+01 8.400e+01 2.600e+01\n 7.600e+01 3.600e+01 2.800e+01 5.100e+01 5.500e+01 2.400e+01 2.700e+01\n 4.700e+01 6.900e+01 3.100e+01 8.000e+01 3.000e+01 6.500e+01 5.000e+00\n 5.200e+01 6.600e+01 2.900e+01 1.200e+01 4.300e+01 6.300e+01 5.800e+01\n 8.000e+00 4.400e+01 5.000e+01 6.800e+01 7.100e+01 6.100e+01 7.200e+01\n 9.400e+01 7.700e+01 2.200e+01 2.500e-01 5.600e+01 3.700e+01 8.333e-02\n 3.900e+01 6.400e+01 6.000e+01 4.100e+01 5.900e+01 2.500e+01 4.500e+01\n 1.600e+01 3.300e+01 4.000e+01 2.000e+01 1.750e+00 8.300e+01 1.000e+00].\nReshape your data either using array.reshape(-1, 1) if your data has a single feature or array.reshape(1, -1) if it contains a single sample."
     ]
    }
   ],
   "source": [
    "\n",
    "X_trainp= poli_reg.fit_transform(train_set_ejex)\n",
    "\n",
    "X_testp = poli_reg.fit_transform(test_set_ejex)"
   ]
  },
  {
   "cell_type": "code",
   "execution_count": null,
   "metadata": {},
   "outputs": [],
   "source": [
    "pr = linear_model.LinearRegression()\n",
    "\n",
    "pr.fit(X_trainp, train_set_ejey)\n",
    "\n",
    "Y_pred_pr = pr.predict(X_testp)\n"
   ]
  },
  {
   "cell_type": "markdown",
   "metadata": {},
   "source": [
    "# Se realiza la gráfica"
   ]
  },
  {
   "cell_type": "code",
   "execution_count": 34,
   "metadata": {},
   "outputs": [
    {
     "ename": "NameError",
     "evalue": "name 'X_testp' is not defined",
     "output_type": "error",
     "traceback": [
      "\u001b[0;31m---------------------------------------------------------------------------\u001b[0m",
      "\u001b[0;31mNameError\u001b[0m                                 Traceback (most recent call last)",
      "\u001b[0;32m<ipython-input-34-45b7b449f1af>\u001b[0m in \u001b[0;36m<module>\u001b[0;34m\u001b[0m\n\u001b[1;32m      1\u001b[0m \u001b[0mplt\u001b[0m\u001b[0;34m.\u001b[0m\u001b[0mscatter\u001b[0m\u001b[0;34m(\u001b[0m\u001b[0mtest_set_ejex\u001b[0m\u001b[0;34m,\u001b[0m\u001b[0mtest_set_ejey\u001b[0m\u001b[0;34m)\u001b[0m\u001b[0;34m\u001b[0m\u001b[0;34m\u001b[0m\u001b[0m\n\u001b[0;32m----> 2\u001b[0;31m \u001b[0mplt\u001b[0m\u001b[0;34m.\u001b[0m\u001b[0mplot\u001b[0m\u001b[0;34m(\u001b[0m\u001b[0mX_testp\u001b[0m\u001b[0;34m,\u001b[0m \u001b[0mY_pred_pr\u001b[0m\u001b[0;34m,\u001b[0m \u001b[0mcolor\u001b[0m\u001b[0;34m=\u001b[0m\u001b[0;34m'red'\u001b[0m\u001b[0;34m,\u001b[0m \u001b[0mlinewidth\u001b[0m\u001b[0;34m=\u001b[0m\u001b[0;36m3\u001b[0m\u001b[0;34m)\u001b[0m\u001b[0;34m\u001b[0m\u001b[0;34m\u001b[0m\u001b[0m\n\u001b[0m\u001b[1;32m      3\u001b[0m \u001b[0mplt\u001b[0m\u001b[0;34m.\u001b[0m\u001b[0mshow\u001b[0m\u001b[0;34m(\u001b[0m\u001b[0;34m)\u001b[0m\u001b[0;34m\u001b[0m\u001b[0;34m\u001b[0m\u001b[0m\n\u001b[1;32m      4\u001b[0m \u001b[0mprint\u001b[0m\u001b[0;34m(\u001b[0m\u001b[0;34m)\u001b[0m\u001b[0;34m\u001b[0m\u001b[0;34m\u001b[0m\u001b[0m\n\u001b[1;32m      5\u001b[0m \u001b[0mprint\u001b[0m\u001b[0;34m(\u001b[0m\u001b[0;34m'Regresión polinomial'\u001b[0m\u001b[0;34m)\u001b[0m\u001b[0;34m\u001b[0m\u001b[0;34m\u001b[0m\u001b[0m\n",
      "\u001b[0;31mNameError\u001b[0m: name 'X_testp' is not defined"
     ]
    },
    {
     "data": {
      "image/png": "[encoded data removed]",
      "text/plain": [
       "<Figure size 432x288 with 1 Axes>"
      ]
     },
     "metadata": {
      "needs_background": "light"
     },
     "output_type": "display_data"
    }
   ],
   "source": [
    "plt.scatter(test_set_ejex,test_set_ejey)\n",
    "plt.plot(X_testp, Y_pred_pr, color='red', linewidth=3)\n",
    "plt.show()\n",
    "print()\n",
    "print('Regresión polinomial')\n",
    "print()"
   ]
  }
 ],
 "metadata": {
  "colab": {
   "collapsed_sections": [],
   "name": "CovidProyecto.ipynb",
   "provenance": []
  },
  "kernelspec": {
   "display_name": "Python 3",
   "language": "python",
   "name": "python3"
  },
  "language_info": {
   "codemirror_mode": {
    "name": "ipython",
    "version": 3
   },
   "file_extension": ".py",
   "mimetype": "text/x-python",
   "name": "python",
   "nbconvert_exporter": "python",
   "pygments_lexer": "ipython3",
   "version": "3.7.6"
  }
 },
 "nbformat": 4,
 "nbformat_minor": 1
}
